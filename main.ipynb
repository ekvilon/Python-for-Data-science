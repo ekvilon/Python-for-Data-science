{
 "cells": [
  {
   "cell_type": "code",
   "execution_count": 137,
   "outputs": [],
   "source": [
    "from pathlib import Path\n",
    "\n",
    "import pandas as pd\n",
    "import catboost as catb\n",
    "from sklearn.ensemble import RandomForestRegressor\n",
    "from sklearn.metrics import classification_report, r2_score\n",
    "from sklearn.model_selection import train_test_split"
   ],
   "metadata": {
    "collapsed": false,
    "pycharm": {
     "name": "#%%\n"
    }
   }
  },
  {
   "cell_type": "code",
   "execution_count": 138,
   "outputs": [],
   "source": [
    "DATA_DIR = Path('./data')\n",
    "TRAIN_FILE = DATA_DIR / 'train.csv'\n",
    "TEST_FILE = DATA_DIR / 'test.csv'"
   ],
   "metadata": {
    "collapsed": false,
    "pycharm": {
     "name": "#%%\n"
    }
   }
  },
  {
   "cell_type": "code",
   "execution_count": 139,
   "outputs": [],
   "source": [
    "train_df = pd.read_csv(TRAIN_FILE)\n",
    "test_df = pd.read_csv(TEST_FILE)\n",
    "target_feature = 'Credit Default'\n",
    "base_features = train_df.columns.drop(target_feature).tolist()"
   ],
   "metadata": {
    "collapsed": false,
    "pycharm": {
     "name": "#%%\n"
    }
   }
  },
  {
   "cell_type": "code",
   "execution_count": 140,
   "outputs": [],
   "source": [
    "def predict_missing_values(data, dest_feature, exclude=''):\n",
    "    '''\n",
    "\n",
    "    :param data:\n",
    "    :type data: pd.DataFrame\n",
    "    :param dest_feature:\n",
    "    :return:\n",
    "    '''\n",
    "    tmp = data.copy()\n",
    "    if exclude:\n",
    "        tmp.drop(columns=exclude, inplace=True)\n",
    "    tmp['Id'] = tmp.index\n",
    "\n",
    "    categorical_features = tmp.select_dtypes(include=[object]).columns.tolist()\n",
    "    dummies = pd.get_dummies(tmp[categorical_features])\n",
    "    dummies['Id'] = tmp['Id']\n",
    "    tmp = tmp.drop(columns=categorical_features).merge(dummies, on=['Id'])\n",
    "\n",
    "    features = tmp.columns\n",
    "\n",
    "    tmp = tmp[features]\n",
    "\n",
    "    train = tmp[~tmp[dest_feature].isna()]\n",
    "    predict_data = tmp[tmp[dest_feature].isna()]\n",
    "\n",
    "    X = train.drop(columns=dest_feature)\n",
    "    y = train[dest_feature]\n",
    "\n",
    "    X_train, X_test, y_train, y_test = train_test_split(X, y,\n",
    "                                                        test_size=0.2,\n",
    "                                                        shuffle=True,\n",
    "                                                        random_state=47)\n",
    "\n",
    "    model = RandomForestRegressor(n_estimators=100,\n",
    "                                  max_depth=10,\n",
    "                                  random_state=47,\n",
    "                                  verbose=0)\n",
    "    model.fit(X_train, y_train)\n",
    "\n",
    "    pred_train = model.predict(X_train)\n",
    "    pred_test = model.predict(X_test)\n",
    "\n",
    "    print(\"R2 for {}\".format(dest_feature))\n",
    "    print(f\"r2 на train: {r2_score(y_train, pred_train)}\")\n",
    "    print(f\"r2 на test: {r2_score(y_test, pred_test)}\")\n",
    "\n",
    "    pred = model.predict(predict_data.drop(columns=dest_feature))\n",
    "\n",
    "    data.loc[data[dest_feature].isna(), dest_feature] = list(pred)\n",
    "\n",
    "    return data"
   ],
   "metadata": {
    "collapsed": false,
    "pycharm": {
     "name": "#%%\n"
    }
   }
  },
  {
   "cell_type": "code",
   "execution_count": 154,
   "outputs": [],
   "source": [
    "def transform_data(data, is_train = True):\n",
    "    transformed_data = data.copy()\n",
    "\n",
    "    max_current_loan_amount = train_df['Current Loan Amount'].max()\n",
    "    median_current_load_amount = train_df['Current Loan Amount'].median()\n",
    "    train_df.loc[train_df['Current Loan Amount'] == max_current_loan_amount, 'Current Loan Amount'] = median_current_load_amount\n",
    "\n",
    "    transformed_data.loc[transformed_data['Years in current job'].isin(['< 1 year', '1 year', '2 years', '3 years', '4 years', '5 years']), 'Years in current job'] = '<= 5 years'\n",
    "    transformed_data.loc[transformed_data['Years in current job'].isin(['6 years', '7 years', '8 years', '9 years']), 'Years in current job'] = '<= 10 years'\n",
    "    transformed_data.loc[transformed_data['Years in current job'].isna(), 'Years in current job'] = transformed_data['Years in current job'].mode()[0]\n",
    "\n",
    "    transformed_data.drop(columns=['Months since last delinquent', 'Bankruptcies'], inplace=True)\n",
    "\n",
    "    transformed_data.loc[transformed_data['Purpose'].isin(['educational expenses', 'medical bills', 'buy house', 'wedding', 'moving', 'vacation']), 'Purpose'] = 'additionals'\n",
    "\n",
    "    if is_train:\n",
    "        transformed_data = predict_missing_values(transformed_data, 'Annual Income', 'Credit Score')\n",
    "        transformed_data = predict_missing_values(transformed_data, 'Credit Score')\n",
    "\n",
    "    return transformed_data"
   ],
   "metadata": {
    "collapsed": false,
    "pycharm": {
     "name": "#%%\n"
    }
   }
  },
  {
   "cell_type": "code",
   "execution_count": 155,
   "outputs": [
    {
     "name": "stdout",
     "output_type": "stream",
     "text": [
      "R2 for Annual Income\n",
      "r2 на train: 0.7419408073884077\n",
      "r2 на test: 0.39718806683020713\n",
      "R2 for Credit Score\n",
      "r2 на train: 0.5598597143250565\n",
      "r2 на test: 0.14961004440323322\n"
     ]
    }
   ],
   "source": [
    "changed_train_df = transform_data(train_df)\n",
    "changed_test_df = transform_data(test_df, False)"
   ],
   "metadata": {
    "collapsed": false,
    "pycharm": {
     "name": "#%%\n"
    }
   }
  },
  {
   "cell_type": "code",
   "execution_count": 156,
   "outputs": [],
   "source": [
    "classes = changed_train_df[[target_feature]].value_counts().array\n",
    "undersampling_count = classes[0] - classes[1]\n",
    "changed_train_df.drop(index=changed_train_df[changed_train_df[target_feature] == 0].sample(undersampling_count, random_state=47).index, inplace=True)"
   ],
   "metadata": {
    "collapsed": false,
    "pycharm": {
     "name": "#%%\n"
    }
   }
  },
  {
   "cell_type": "code",
   "execution_count": 144,
   "outputs": [],
   "source": [
    "def get_classification_report(y_train_true, y_train_pred, y_test_true, y_test_pred):\n",
    "    print('TRAIN\\n\\n' + classification_report(y_train_true, y_train_pred))\n",
    "    print('TEST\\n\\n' + classification_report(y_test_true, y_test_pred))\n",
    "\n",
    "def evaluate_preds(model, X_train, X_test, y_train, y_test):\n",
    "    y_train_pred = model.predict(X_train)\n",
    "    y_test_pred = model.predict(X_test)\n",
    "\n",
    "    get_classification_report(y_train, y_train_pred, y_test, y_test_pred)"
   ],
   "metadata": {
    "collapsed": false,
    "pycharm": {
     "name": "#%%\n"
    }
   }
  },
  {
   "cell_type": "code",
   "execution_count": 157,
   "outputs": [
    {
     "name": "stdout",
     "output_type": "stream",
     "text": [
      "TRAIN\n",
      "\n",
      "              precision    recall  f1-score   support\n",
      "\n",
      "           0       0.72      0.92      0.81      1463\n",
      "           1       0.89      0.64      0.75      1495\n",
      "\n",
      "    accuracy                           0.78      2958\n",
      "   macro avg       0.81      0.78      0.78      2958\n",
      "weighted avg       0.81      0.78      0.78      2958\n",
      "\n",
      "TEST\n",
      "\n",
      "              precision    recall  f1-score   support\n",
      "\n",
      "           0       0.71      0.91      0.80       650\n",
      "           1       0.87      0.61      0.72       618\n",
      "\n",
      "    accuracy                           0.77      1268\n",
      "   macro avg       0.79      0.76      0.76      1268\n",
      "weighted avg       0.79      0.77      0.76      1268\n",
      "\n"
     ]
    }
   ],
   "source": [
    "def do_train_prediction(df):\n",
    "    X = df.drop(columns=[target_feature])\n",
    "    y = df[[target_feature]]\n",
    "    categorical_features = X.select_dtypes(include=[object]).columns.tolist()\n",
    "\n",
    "    X_train, X_test, y_train, y_test = train_test_split(X, y,\n",
    "                                                        shuffle=True,\n",
    "                                                        test_size=0.3,\n",
    "                                                        random_state=47)\n",
    "    model_catb = catb.CatBoostClassifier(silent=True,\n",
    "                                         random_state=47,\n",
    "                                         eval_metric='F1',\n",
    "                                         cat_features=categorical_features,\n",
    "                                         early_stopping_rounds=22,\n",
    "                                         use_best_model=True,\n",
    "                                         custom_metric=['Precision', 'Recall'])\n",
    "    model_catb.fit(X_train, y_train, plot=False, eval_set=(X_test, y_test))\n",
    "    evaluate_preds(model_catb, X_train, X_test, y_train, y_test)\n",
    "\n",
    "    return model_catb\n",
    "\n",
    "final_model = do_train_prediction(changed_train_df)"
   ],
   "metadata": {
    "collapsed": false,
    "pycharm": {
     "name": "#%%\n"
    }
   }
  },
  {
   "cell_type": "code",
   "execution_count": 159,
   "outputs": [
    {
     "data": {
      "text/plain": "array([[   0,    1],\n       [   1,    1],\n       [   2,    1],\n       ...,\n       [2497,    0],\n       [2498,    0],\n       [2499,    1]], dtype=int64)"
     },
     "execution_count": 159,
     "metadata": {},
     "output_type": "execute_result"
    }
   ],
   "source": [
    "y_test_preds = final_model.predict(changed_test_df)\n",
    "\n",
    "result = pd.DataFrame()\n",
    "\n",
    "result['Id'] = changed_test_df.index\n",
    "result[target_feature] = pd.Series(y_test_preds)\n",
    "result.to_csv('result.csv', index=False)\n",
    "result.values"
   ],
   "metadata": {
    "collapsed": false,
    "pycharm": {
     "name": "#%%\n"
    }
   }
  }
 ],
 "metadata": {
  "kernelspec": {
   "display_name": "Python 3",
   "language": "python",
   "name": "python3"
  },
  "language_info": {
   "codemirror_mode": {
    "name": "ipython",
    "version": 3
   },
   "file_extension": ".py",
   "mimetype": "text/x-python",
   "name": "python",
   "nbconvert_exporter": "python",
   "pygments_lexer": "ipython3",
   "version": "3.7.0"
  }
 },
 "nbformat": 4,
 "nbformat_minor": 1
}